{
 "cells": [
  {
   "cell_type": "code",
   "execution_count": 1,
   "metadata": {},
   "outputs": [
    {
     "name": "stdout",
     "output_type": "stream",
     "text": [
      "<module 'numpy.version' from 'C:\\\\Users\\\\Marlon\\\\anaconda3\\\\lib\\\\site-packages\\\\numpy\\\\version.py'>\n"
     ]
    }
   ],
   "source": [
    "import numpy as np\n",
    "print(np.version)"
   ]
  },
  {
   "cell_type": "code",
   "execution_count": 2,
   "metadata": {},
   "outputs": [
    {
     "data": {
      "text/plain": [
       "[1, 2, 3, 4, 5]"
      ]
     },
     "execution_count": 2,
     "metadata": {},
     "output_type": "execute_result"
    }
   ],
   "source": [
    "a=[1,2,3,4,5]\n",
    "a"
   ]
  },
  {
   "cell_type": "code",
   "execution_count": 3,
   "metadata": {},
   "outputs": [
    {
     "name": "stdout",
     "output_type": "stream",
     "text": [
      "<class 'numpy.ndarray'>\n"
     ]
    }
   ],
   "source": [
    "np.array(a)\n",
    "print(type(np.array(a)))"
   ]
  },
  {
   "cell_type": "code",
   "execution_count": 4,
   "metadata": {},
   "outputs": [
    {
     "data": {
      "text/plain": [
       "[1, 2, 3, 4, 5]"
      ]
     },
     "execution_count": 4,
     "metadata": {},
     "output_type": "execute_result"
    }
   ],
   "source": [
    "a"
   ]
  },
  {
   "cell_type": "code",
   "execution_count": 5,
   "metadata": {
    "scrolled": true
   },
   "outputs": [
    {
     "name": "stdout",
     "output_type": "stream",
     "text": [
      "<class 'list'>\n"
     ]
    }
   ],
   "source": [
    "np.array(a,dtype=\"float64\")\n",
    "a\n",
    "print(type(a))"
   ]
  },
  {
   "cell_type": "code",
   "execution_count": 6,
   "metadata": {
    "scrolled": true
   },
   "outputs": [
    {
     "name": "stdout",
     "output_type": "stream",
     "text": [
      "[0 0 0 0 0]\n"
     ]
    }
   ],
   "source": [
    "print(np.zeros(5, dtype=\"int\"))"
   ]
  },
  {
   "cell_type": "code",
   "execution_count": 9,
   "metadata": {
    "scrolled": true
   },
   "outputs": [
    {
     "name": "stdout",
     "output_type": "stream",
     "text": [
      "[[1. 1. 1. 1.]\n",
      " [1. 1. 1. 1.]\n",
      " [1. 1. 1. 1.]]\n"
     ]
    }
   ],
   "source": [
    "print(np.ones((3,4)))"
   ]
  },
  {
   "cell_type": "code",
   "execution_count": 11,
   "metadata": {},
   "outputs": [
    {
     "name": "stdout",
     "output_type": "stream",
     "text": [
      "[[500 500 500 500]\n",
      " [500 500 500 500]\n",
      " [500 500 500 500]]\n"
     ]
    }
   ],
   "source": [
    "print(np.full((3,4),500))"
   ]
  },
  {
   "cell_type": "code",
   "execution_count": 13,
   "metadata": {
    "scrolled": false
   },
   "outputs": [
    {
     "name": "stdout",
     "output_type": "stream",
     "text": [
      "[[0.64690872 0.13909128 0.39776874]\n",
      " [0.05267655 0.55076097 0.91278323]\n",
      " [0.04314038 0.36170578 0.59991694]]\n"
     ]
    }
   ],
   "source": [
    "print(np.random.random((3,3)))\n",
    "#seed allows reproducibility"
   ]
  },
  {
   "cell_type": "code",
   "execution_count": 15,
   "metadata": {
    "scrolled": true
   },
   "outputs": [
    {
     "name": "stdout",
     "output_type": "stream",
     "text": [
      "[[0.22199317 0.87073231 0.20671916]\n",
      " [0.91861091 0.48841119 0.61174386]\n",
      " [0.76590786 0.51841799 0.2968005 ]]\n"
     ]
    }
   ],
   "source": [
    "np.random.seed(5)\n",
    "print(np.random.random((3,3)))"
   ]
  },
  {
   "cell_type": "code",
   "execution_count": 16,
   "metadata": {},
   "outputs": [
    {
     "name": "stdout",
     "output_type": "stream",
     "text": [
      "[[0.18772123 0.08074127 0.7384403 ]\n",
      " [0.44130922 0.15830987 0.87993703]\n",
      " [0.27408646 0.41423502 0.29607993]]\n"
     ]
    }
   ],
   "source": [
    "print(np.random.random((3,3)))"
   ]
  },
  {
   "cell_type": "code",
   "execution_count": 17,
   "metadata": {
    "scrolled": true
   },
   "outputs": [
    {
     "name": "stdout",
     "output_type": "stream",
     "text": [
      "[[0.22199317 0.87073231 0.20671916]\n",
      " [0.91861091 0.48841119 0.61174386]\n",
      " [0.76590786 0.51841799 0.2968005 ]]\n"
     ]
    }
   ],
   "source": [
    "np.random.seed(5)\n",
    "print(np.random.random((3,3)))"
   ]
  },
  {
   "cell_type": "code",
   "execution_count": 18,
   "metadata": {
    "scrolled": false
   },
   "outputs": [
    {
     "name": "stdout",
     "output_type": "stream",
     "text": [
      "[[-0.40309331  1.63762849 -0.60529785]\n",
      " [-1.59441507  0.91187364 -1.44384155]\n",
      " [ 1.82444017  1.45762512 -0.91025815]]\n"
     ]
    }
   ],
   "source": [
    "#normal distribution (mean, std dev, row, col)\n",
    "print(np.random.normal(0,1,(3,3)))"
   ]
  },
  {
   "cell_type": "code",
   "execution_count": 20,
   "metadata": {
    "scrolled": true
   },
   "outputs": [
    {
     "name": "stdout",
     "output_type": "stream",
     "text": [
      "[[1. 0. 0. 0. 0. 0. 0. 0. 0. 0.]\n",
      " [0. 1. 0. 0. 0. 0. 0. 0. 0. 0.]\n",
      " [0. 0. 1. 0. 0. 0. 0. 0. 0. 0.]\n",
      " [0. 0. 0. 1. 0. 0. 0. 0. 0. 0.]\n",
      " [0. 0. 0. 0. 1. 0. 0. 0. 0. 0.]\n",
      " [0. 0. 0. 0. 0. 1. 0. 0. 0. 0.]\n",
      " [0. 0. 0. 0. 0. 0. 1. 0. 0. 0.]\n",
      " [0. 0. 0. 0. 0. 0. 0. 1. 0. 0.]\n",
      " [0. 0. 0. 0. 0. 0. 0. 0. 1. 0.]\n",
      " [0. 0. 0. 0. 0. 0. 0. 0. 0. 1.]]\n"
     ]
    }
   ],
   "source": [
    "#identity matrix( 1 diagonal, other elements 0, equal number of rows and cols)\n",
    "\n",
    "print(np.eye(10))"
   ]
  },
  {
   "cell_type": "code",
   "execution_count": 37,
   "metadata": {
    "scrolled": true
   },
   "outputs": [
    {
     "name": "stdout",
     "output_type": "stream",
     "text": [
      "[0 0 0 0 0 0 0 0 0 0]\n"
     ]
    }
   ],
   "source": [
    "#create a 10-length zero integer\n",
    "print(np.zeros(10, dtype=\"int\"))"
   ]
  },
  {
   "cell_type": "code",
   "execution_count": 25,
   "metadata": {},
   "outputs": [
    {
     "name": "stdout",
     "output_type": "stream",
     "text": [
      "[[1. 1. 1. 1.]\n",
      " [1. 1. 1. 1.]\n",
      " [1. 1. 1. 1.]]\n"
     ]
    }
   ],
   "source": [
    "#one 3*4 integer\n",
    "print(np.ones((3,4), dtype=\"float\"))"
   ]
  },
  {
   "cell_type": "code",
   "execution_count": 33,
   "metadata": {},
   "outputs": [
    {
     "data": {
      "text/plain": [
       "array([[3.14, 3.14, 3.14, 3.14, 3.14],\n",
       "       [3.14, 3.14, 3.14, 3.14, 3.14],\n",
       "       [3.14, 3.14, 3.14, 3.14, 3.14]])"
      ]
     },
     "execution_count": 33,
     "metadata": {},
     "output_type": "execute_result"
    }
   ],
   "source": [
    "#3x5 3.14\n",
    "np.full((3,5), 3.14)\n"
   ]
  },
  {
   "cell_type": "code",
   "execution_count": 35,
   "metadata": {},
   "outputs": [
    {
     "data": {
      "text/plain": [
       "array([ 0,  2,  4,  6,  8, 10, 12, 14, 16, 18])"
      ]
     },
     "execution_count": 35,
     "metadata": {},
     "output_type": "execute_result"
    }
   ],
   "source": [
    "#create linear sequence from 0 to 20 jumping every 2\n",
    "np.arange(0,20,2)\n"
   ]
  },
  {
   "cell_type": "code",
   "execution_count": 31,
   "metadata": {},
   "outputs": [
    {
     "data": {
      "text/plain": [
       "array([0.  , 0.25, 0.5 , 0.75, 1.  ])"
      ]
     },
     "execution_count": 31,
     "metadata": {},
     "output_type": "execute_result"
    }
   ],
   "source": [
    "#create an array of 5 values evenly spaced from 0 to 1\n",
    "np.linspace(0,1,5)"
   ]
  },
  {
   "cell_type": "code",
   "execution_count": 38,
   "metadata": {},
   "outputs": [
    {
     "data": {
      "text/plain": [
       "array([[0.25358821, 0.32756395, 0.1441643 ],\n",
       "       [0.16561286, 0.96393053, 0.96022672],\n",
       "       [0.18841466, 0.02430656, 0.20455555]])"
      ]
     },
     "execution_count": 38,
     "metadata": {},
     "output_type": "execute_result"
    }
   ],
   "source": [
    "#Create a 3x3 array of uniformly distributed random values between 0 and 1\n",
    "np.random.random((3,3))"
   ]
  },
  {
   "cell_type": "code",
   "execution_count": 40,
   "metadata": {
    "scrolled": true
   },
   "outputs": [
    {
     "data": {
      "text/plain": [
       "array([[-0.99001894,  0.99643983,  0.71242127],\n",
       "       [ 0.05914424, -0.36331088,  0.00328884],\n",
       "       [-0.10593044,  0.79305332, -0.63157163]])"
      ]
     },
     "execution_count": 40,
     "metadata": {},
     "output_type": "execute_result"
    }
   ],
   "source": [
    "#Create a 3x3 array of normally distributed random values with mean 0 and standard deviation 1\n",
    "np.random.normal(0,1,(3,3))"
   ]
  },
  {
   "cell_type": "code",
   "execution_count": 44,
   "metadata": {
    "scrolled": true
   },
   "outputs": [
    {
     "data": {
      "text/plain": [
       "array([[9, 5, 7],\n",
       "       [0, 9, 6],\n",
       "       [0, 5, 2]])"
      ]
     },
     "execution_count": 44,
     "metadata": {},
     "output_type": "execute_result"
    }
   ],
   "source": [
    "#Create a 3x3 array of random integers in the interval [0, 10)\n",
    "np.random.randint(0,10, (3,3))"
   ]
  },
  {
   "cell_type": "code",
   "execution_count": 45,
   "metadata": {},
   "outputs": [
    {
     "data": {
      "text/plain": [
       "array([[1., 0., 0.],\n",
       "       [0., 1., 0.],\n",
       "       [0., 0., 1.]])"
      ]
     },
     "execution_count": 45,
     "metadata": {},
     "output_type": "execute_result"
    }
   ],
   "source": [
    "#Create a 3x3 identity matrix\n",
    "np.eye(3)"
   ]
  },
  {
   "cell_type": "code",
   "execution_count": 51,
   "metadata": {},
   "outputs": [
    {
     "data": {
      "text/plain": [
       "array([8, 6, 8, 0, 5, 2])"
      ]
     },
     "execution_count": 51,
     "metadata": {},
     "output_type": "execute_result"
    }
   ],
   "source": [
    "# Creating a one dimensional array.\n",
    "one=np.random.randint(10, size=6)\n",
    "one"
   ]
  },
  {
   "cell_type": "code",
   "execution_count": 53,
   "metadata": {},
   "outputs": [
    {
     "data": {
      "text/plain": [
       "array([[0, 7, 7, 6, 0],\n",
       "       [0, 8, 5, 5, 9]])"
      ]
     },
     "execution_count": 53,
     "metadata": {},
     "output_type": "execute_result"
    }
   ],
   "source": [
    "# Creating a two dimensional array.\n",
    "two=np.random.randint(10, size=(2,5))\n",
    "two"
   ]
  },
  {
   "cell_type": "code",
   "execution_count": 54,
   "metadata": {
    "scrolled": true
   },
   "outputs": [
    {
     "data": {
      "text/plain": [
       "array([[[6, 4, 5, 2, 8],\n",
       "        [8, 1, 6, 3, 4],\n",
       "        [1, 8, 0, 2, 2],\n",
       "        [4, 1, 6, 3, 4]],\n",
       "\n",
       "       [[3, 1, 4, 2, 3],\n",
       "        [4, 9, 4, 0, 6],\n",
       "        [6, 9, 2, 9, 3],\n",
       "        [0, 8, 8, 9, 7]],\n",
       "\n",
       "       [[4, 8, 6, 8, 0],\n",
       "        [5, 3, 4, 0, 2],\n",
       "        [2, 1, 1, 7, 1],\n",
       "        [7, 2, 6, 3, 6]]])"
      ]
     },
     "execution_count": 54,
     "metadata": {},
     "output_type": "execute_result"
    }
   ],
   "source": [
    "# Creating a three dimensional array.\n",
    "three=np.random.randint(10, size=(3,4,5))\n",
    "three"
   ]
  },
  {
   "cell_type": "code",
   "execution_count": 61,
   "metadata": {},
   "outputs": [
    {
     "name": "stdout",
     "output_type": "stream",
     "text": [
      "one ==> 1\n",
      "two ==> 2\n",
      "three ==> 3\n"
     ]
    }
   ],
   "source": [
    "\n",
    "# Using the attributes to determine the dimension of the arrays.\n",
    "print(\"one ==>\", one.ndim)\n",
    "print(\"two ==>\", two.ndim)\n",
    "print(\"three ==>\", three.ndim)"
   ]
  },
  {
   "cell_type": "code",
   "execution_count": 63,
   "metadata": {},
   "outputs": [
    {
     "name": "stdout",
     "output_type": "stream",
     "text": [
      "one ==> (6,)\n",
      "two ==> (2, 5)\n",
      "three ==> (3, 4, 5)\n"
     ]
    }
   ],
   "source": [
    "#Using the attribute to determine the shape of the arrays.\n",
    "print(\"one ==>\", one.shape)\n",
    "print(\"two ==>\", two.shape)\n",
    "print(\"three ==>\", three.shape)"
   ]
  },
  {
   "cell_type": "code",
   "execution_count": 64,
   "metadata": {},
   "outputs": [
    {
     "name": "stdout",
     "output_type": "stream",
     "text": [
      "one ==> 6\n",
      "two ==> 10\n",
      "three ==> 60\n"
     ]
    }
   ],
   "source": [
    "# Using the attribute to determine the size of the arrays or total number of elements\n",
    "print(\"one ==>\", one.size)\n",
    "print(\"two ==>\", two.size)\n",
    "print(\"three ==>\", three.size)"
   ]
  },
  {
   "cell_type": "code",
   "execution_count": 66,
   "metadata": {},
   "outputs": [
    {
     "name": "stdout",
     "output_type": "stream",
     "text": [
      "one ==> int32\n",
      "two ==> int32\n",
      "three ==> int32\n"
     ]
    }
   ],
   "source": [
    "\n",
    "# Using the attribute to determine the datatype of the arrays.\n",
    "\n",
    "print(\"one ==>\", one.dtype)\n",
    "print(\"two ==>\", two.dtype)\n",
    "print(\"three ==>\", three.dtype)"
   ]
  },
  {
   "cell_type": "code",
   "execution_count": 68,
   "metadata": {},
   "outputs": [
    {
     "name": "stdout",
     "output_type": "stream",
     "text": [
      "8\n"
     ]
    },
    {
     "data": {
      "text/plain": [
       "array([8, 6, 8, 0, 5, 2])"
      ]
     },
     "execution_count": 68,
     "metadata": {},
     "output_type": "execute_result"
    }
   ],
   "source": [
    "# Array Indexing: Accessing Single Elements\n",
    "print(one[2])\n",
    "one"
   ]
  },
  {
   "cell_type": "code",
   "execution_count": 80,
   "metadata": {},
   "outputs": [
    {
     "data": {
      "text/plain": [
       "5"
      ]
     },
     "execution_count": 80,
     "metadata": {},
     "output_type": "execute_result"
    }
   ],
   "source": [
    "\n",
    "# Accessing the elements in a multi dimensional array\n",
    "\n",
    "two[1,2]"
   ]
  },
  {
   "cell_type": "code",
   "execution_count": 84,
   "metadata": {},
   "outputs": [
    {
     "data": {
      "text/plain": [
       "array([1, 6, 8, 0, 5, 2])"
      ]
     },
     "execution_count": 84,
     "metadata": {},
     "output_type": "execute_result"
    }
   ],
   "source": [
    "\n",
    "# Changing the values of the array\n",
    "\n",
    "one\n",
    "one[0]=9\n",
    "one\n",
    "one[0]=1.99\n",
    "one"
   ]
  },
  {
   "cell_type": "code",
   "execution_count": 94,
   "metadata": {},
   "outputs": [
    {
     "data": {
      "text/plain": [
       "array([4, 4, 9, 9, 6, 7, 9, 6, 0, 7])"
      ]
     },
     "execution_count": 94,
     "metadata": {},
     "output_type": "execute_result"
    }
   ],
   "source": [
    "# Array Slicing: Accessing Subarrays\n",
    "# The syntax of the slicing is ==> x[start:stop:step] ==> default value is:\n",
    "# [0: size of the dimension: 1]\n",
    "\n",
    "a=np.random.randint(10, size=(10))\n",
    "a\n"
   ]
  },
  {
   "cell_type": "code",
   "execution_count": 96,
   "metadata": {},
   "outputs": [
    {
     "data": {
      "text/plain": [
       "array([4, 9, 6])"
      ]
     },
     "execution_count": 96,
     "metadata": {},
     "output_type": "execute_result"
    }
   ],
   "source": [
    "a[0:5:2]\n"
   ]
  },
  {
   "cell_type": "code",
   "execution_count": 99,
   "metadata": {},
   "outputs": [
    {
     "data": {
      "text/plain": [
       "array([7, 0, 6, 9, 7, 6, 9, 9, 4, 4])"
      ]
     },
     "execution_count": 99,
     "metadata": {},
     "output_type": "execute_result"
    }
   ],
   "source": [
    "a[::-1]"
   ]
  },
  {
   "cell_type": "code",
   "execution_count": 101,
   "metadata": {},
   "outputs": [
    {
     "data": {
      "text/plain": [
       "array([[0, 7, 7, 6, 0],\n",
       "       [0, 9, 5, 5, 9]])"
      ]
     },
     "execution_count": 101,
     "metadata": {},
     "output_type": "execute_result"
    }
   ],
   "source": [
    "two\n",
    "two[1,1]=9\n",
    "two"
   ]
  },
  {
   "cell_type": "code",
   "execution_count": 117,
   "metadata": {},
   "outputs": [
    {
     "data": {
      "text/plain": [
       "array([[0, 7, 7, 6, 0],\n",
       "       [0, 9, 5, 5, 9]])"
      ]
     },
     "execution_count": 117,
     "metadata": {},
     "output_type": "execute_result"
    }
   ],
   "source": [
    "# Modifing the array with using copy() function.\n",
    "two\n",
    "copy2=two[:2,:2].copy()\n",
    "copy2[0,1]=6\n",
    "copy2\n",
    "two"
   ]
  },
  {
   "cell_type": "code",
   "execution_count": 119,
   "metadata": {},
   "outputs": [
    {
     "data": {
      "text/plain": [
       "array([[ 1,  2,  3,  4,  5],\n",
       "       [ 6,  7,  8,  9, 10],\n",
       "       [11, 12, 13, 14, 15],\n",
       "       [16, 17, 18, 19, 20]])"
      ]
     },
     "execution_count": 119,
     "metadata": {},
     "output_type": "execute_result"
    }
   ],
   "source": [
    "# Reshaping of Arrays using reshape() in a more advanced way\n",
    "\n",
    "grid=np.arange(1,21).reshape(4,5)\n",
    "grid"
   ]
  },
  {
   "cell_type": "code",
   "execution_count": 136,
   "metadata": {},
   "outputs": [
    {
     "data": {
      "text/plain": [
       "array([[0, 7, 7, 6, 0, 0, 7, 7, 6, 0],\n",
       "       [0, 9, 5, 5, 9, 0, 9, 5, 5, 9]])"
      ]
     },
     "execution_count": 136,
     "metadata": {},
     "output_type": "execute_result"
    }
   ],
   "source": [
    "a=np.array([1,2,3])\n",
    "b=np.array([4,5,6])\n",
    "c=np.concatenate([a,b])\n",
    "c\n",
    "d=np.array([7,8,9])\n",
    "e=np.concatenate([c,d])\n",
    "e\n",
    "two\n",
    "f=np.concatenate([two,two], axis=1)\n",
    "f"
   ]
  },
  {
   "cell_type": "code",
   "execution_count": 138,
   "metadata": {},
   "outputs": [
    {
     "data": {
      "text/plain": [
       "array([1, 6, 8, 0, 5, 2, 1, 6, 8, 0, 5, 2])"
      ]
     },
     "execution_count": 138,
     "metadata": {},
     "output_type": "execute_result"
    }
   ],
   "source": [
    "np.vstack([one, one])\n",
    "np.hstack([one,one])"
   ]
  },
  {
   "cell_type": "code",
   "execution_count": 144,
   "metadata": {},
   "outputs": [
    {
     "data": {
      "text/plain": [
       "(array([1, 2, 3]),\n",
       " array([4, 5, 6]),\n",
       " array([ 7,  8,  9, 10, 11, 12, 13, 14, 15, 16, 17, 18, 19, 20]))"
      ]
     },
     "execution_count": 144,
     "metadata": {},
     "output_type": "execute_result"
    }
   ],
   "source": [
    "a= np.arange(1,21)\n",
    "b,c,d=np.split(a, [3,6])\n",
    "b,c,d"
   ]
  },
  {
   "cell_type": "code",
   "execution_count": 145,
   "metadata": {},
   "outputs": [
    {
     "data": {
      "text/plain": [
       "array([[ 1,  2,  3,  4,  5],\n",
       "       [ 6,  7,  8,  9, 10],\n",
       "       [11, 12, 13, 14, 15],\n",
       "       [16, 17, 18, 19, 20]])"
      ]
     },
     "execution_count": 145,
     "metadata": {},
     "output_type": "execute_result"
    }
   ],
   "source": [
    "grid=a.reshape(4,5)\n",
    "grid\n"
   ]
  },
  {
   "cell_type": "code",
   "execution_count": 152,
   "metadata": {},
   "outputs": [
    {
     "data": {
      "text/plain": [
       "array([[ 1,  2],\n",
       "       [ 6,  7],\n",
       "       [11, 12],\n",
       "       [16, 17]])"
      ]
     },
     "execution_count": 152,
     "metadata": {},
     "output_type": "execute_result"
    }
   ],
   "source": [
    "left, tight=np.hsplit(grid,[2])\n",
    "left"
   ]
  },
  {
   "cell_type": "code",
   "execution_count": 154,
   "metadata": {},
   "outputs": [
    {
     "name": "stdout",
     "output_type": "stream",
     "text": [
      "x = [0 1 2 3]\n",
      "x + 5 = [5 6 7 8]\n",
      "x - 5 = [-5 -4 -3 -2]\n",
      "x * 2 = [0 2 4 6]\n",
      "x / 2 = [0.  0.5 1.  1.5]\n",
      "x // 2 = [0 0 1 1]\n",
      "-x =  [ 0 -1 -2 -3]\n",
      "x ** 2 =  [0 1 4 9]\n",
      "x % 2 =  [0 1 0 1]\n",
      "[2 3 4 5]\n"
     ]
    }
   ],
   "source": [
    "x=np.arange(4)\n",
    "x\n",
    "print\n",
    "print(\"x =\", x)\n",
    "print(\"x + 5 =\", x + 5)\n",
    "print(\"x - 5 =\", x - 5)\n",
    "print(\"x * 2 =\", x * 2)\n",
    "print(\"x / 2 =\", x / 2)\n",
    "print(\"x // 2 =\", x // 2) # floor division\n",
    "print(\"-x = \", -x)\n",
    "print(\"x ** 2 = \", x ** 2)\n",
    "print(\"x % 2 = \", x % 2)\n",
    "print(np.add(x, 2))"
   ]
  },
  {
   "cell_type": "code",
   "execution_count": 157,
   "metadata": {},
   "outputs": [
    {
     "name": "stdout",
     "output_type": "stream",
     "text": [
      "[1 2 3]\n"
     ]
    }
   ],
   "source": [
    "neg=np.array([-1,-2,-3])\n",
    "neg\n",
    "print(np.abs(neg))"
   ]
  },
  {
   "cell_type": "code",
   "execution_count": 165,
   "metadata": {
    "scrolled": true
   },
   "outputs": [
    {
     "name": "stdout",
     "output_type": "stream",
     "text": [
      "[0.         1.57079633 3.14159265]\n",
      "[ 1.000000e+00  6.123234e-17 -1.000000e+00]\n",
      "[0.0000000e+00 1.0000000e+00 1.2246468e-16]\n",
      "[ 0.00000000e+00  1.63312394e+16 -1.22464680e-16]\n",
      "[-1.57079633  0.          1.57079633]\n"
     ]
    }
   ],
   "source": [
    "#trigonometric functions\n",
    "\n",
    "x=np.linspace(0,np.pi,3)\n",
    "x\n",
    "print(x)\n",
    "print(np.cos(x))\n",
    "print(np.sin(x))\n",
    "print(np.tan(x))\n",
    "\n",
    "y=[-1,0,1]\n",
    "print(np.arcsin(y))\n",
    "print(np.arccos(y))\n",
    "print(np.arctan(y))"
   ]
  },
  {
   "cell_type": "code",
   "execution_count": 177,
   "metadata": {},
   "outputs": [
    {
     "data": {
      "text/plain": [
       "array([0.        , 0.30103   , 0.60205999, 1.        ])"
      ]
     },
     "execution_count": 177,
     "metadata": {},
     "output_type": "execute_result"
    }
   ],
   "source": [
    "#exponents and logarithms\n",
    "\n",
    "x=[1,2,3]\n",
    "x\n",
    "np.exp(x)\n",
    "np.exp2(x)\n",
    "np.power(3,x)\n",
    "\n",
    "y=[1,2,4,10]\n",
    "y\n",
    "np.log(y)\n",
    "np.log2(y)\n",
    "np.log10(y)\n"
   ]
  },
  {
   "cell_type": "code",
   "execution_count": 190,
   "metadata": {},
   "outputs": [
    {
     "name": "stdout",
     "output_type": "stream",
     "text": [
      "[1.0000e+00 2.4000e+01 3.6288e+05]\n",
      "[0.5        0.03333333 0.00909091]\n",
      "[ 0.          3.17805383 12.80182748]\n",
      "[0.84270079 1.         1.        ]\n",
      "[1.57299207e-01 1.53745979e-12 2.08848758e-45]\n"
     ]
    }
   ],
   "source": [
    "# Another excellent source for more specialized and obscure ufuncs is the submodule\n",
    "# scipy.special. If you want to compute some obscure mathematical function on\n",
    "# your data, chances are it is implemented in scipy.special.\n",
    "\n",
    "from scipy import special\n",
    "x=[1,5,10]\n",
    "\n",
    "print(special.gamma(x))\n",
    "print(special.beta(x,2))\n",
    "print(special.gammaln(x))\n",
    "print(special.erf(x)) #error function, inverse, complement\n",
    "print(special.erfc(x))"
   ]
  },
  {
   "cell_type": "code",
   "execution_count": 202,
   "metadata": {},
   "outputs": [
    {
     "name": "stdout",
     "output_type": "stream",
     "text": [
      "[0. 0. 0. 0. 0. 0. 0. 0. 0. 0.]\n",
      "[0 1 2 3 4]\n"
     ]
    },
    {
     "data": {
      "text/plain": [
       "array([ 1.,  2.,  4.,  8., 16.])"
      ]
     },
     "execution_count": 202,
     "metadata": {},
     "output_type": "execute_result"
    }
   ],
   "source": [
    "# Advanced Ufunc Features\n",
    "# Specifying output\n",
    "\n",
    "x=np.arange(5)\n",
    "y=np.empty(5)\n",
    "np.add(x,10,out=y)\n",
    "y\n",
    "\n",
    "w=np.zeros(10)\n",
    "print(w)\n",
    "print(x)\n",
    "np.power(2,x, out=w[::2])"
   ]
  },
  {
   "cell_type": "code",
   "execution_count": 211,
   "metadata": {},
   "outputs": [
    {
     "name": "stdout",
     "output_type": "stream",
     "text": [
      "[1 2 3 4 5]\n",
      "15\n",
      "[ 1  3  6 10 15]\n",
      "120\n",
      "[  1   2   6  24 120]\n"
     ]
    }
   ],
   "source": [
    "#aggregates\n",
    "x=np.arange(1,6)\n",
    "print(x)\n",
    "print(np.add.reduce(x))\n",
    "print(np.add.accumulate(x))\n",
    "print(np.multiply.reduce(x))\n",
    "print(np.multiply.accumulate(x))\n"
   ]
  },
  {
   "cell_type": "code",
   "execution_count": 214,
   "metadata": {},
   "outputs": [
    {
     "name": "stdout",
     "output_type": "stream",
     "text": [
      "[0 1 3 5 7 9]\n",
      "[2 0 4 5 3 1]\n"
     ]
    }
   ],
   "source": [
    "#sorting\n",
    "a = np.array([1, 9, 0, 7, 3, 5])\n",
    "sort=np.sort(a)\n",
    "print(sort)\n",
    "\n",
    "#sortedindex\n",
    "print(np.argsort(a))"
   ]
  },
  {
   "cell_type": "code",
   "execution_count": 224,
   "metadata": {},
   "outputs": [
    {
     "name": "stdout",
     "output_type": "stream",
     "text": [
      "[  7  10  12  13  60 500  14]\n"
     ]
    }
   ],
   "source": [
    "# partitioning\n",
    "# NumPy provides this in the np.partition function. \n",
    "# np.partition takes an array and a number K; the result is a new array with the smallest K values to the left of the partition,\n",
    "# and the remaining values to the right, in arbitrary order:\n",
    "x = np.array([7, 12, 13, 10, 60, 500, 14]) \n",
    "print(np.partition(x,2))\n"
   ]
  }
 ],
 "metadata": {
  "kernelspec": {
   "display_name": "Python 3",
   "language": "python",
   "name": "python3"
  },
  "language_info": {
   "codemirror_mode": {
    "name": "ipython",
    "version": 3
   },
   "file_extension": ".py",
   "mimetype": "text/x-python",
   "name": "python",
   "nbconvert_exporter": "python",
   "pygments_lexer": "ipython3",
   "version": "3.7.6"
  }
 },
 "nbformat": 4,
 "nbformat_minor": 4
}
