{
 "cells": [
  {
   "cell_type": "code",
   "execution_count": null,
   "metadata": {},
   "outputs": [],
   "source": [
    "#In simple words, the eval function evaluates the “String” like a python expression and returns the result as an integer.\n",
    "#eval(expression, [globals[, locals]])b\n",
    "#The arguments or parameters of eval function are strings, also optionally global and locals.\n",
    "#Often the return type would be an integer.\n",
    "#Eval function is mostly used in situations or applications which need to evaluate mathematical expressions.\n"
   ]
  },
  {
   "cell_type": "code",
   "execution_count": 1,
   "metadata": {},
   "outputs": [],
   "source": [
    "#What is the difference between the input() and eval()?\n",
    "#input returns a string\n",
    "#eval returns integer"
   ]
  },
  {
   "cell_type": "code",
   "execution_count": 3,
   "metadata": {},
   "outputs": [
    {
     "name": "stdout",
     "output_type": "stream",
     "text": [
      "Enterx+2+3*x-x\n",
      "x+2+3*x-x\n",
      "<class 'str'>\n"
     ]
    }
   ],
   "source": [
    "#example\n",
    "evaluate=input(\"Enter\")\n",
    "print(evaluate)\n",
    "print(type(evaluate))"
   ]
  },
  {
   "cell_type": "code",
   "execution_count": 6,
   "metadata": {
    "scrolled": true
   },
   "outputs": [
    {
     "name": "stdout",
     "output_type": "stream",
     "text": [
      "<class 'int'>\n"
     ]
    }
   ],
   "source": [
    "x=10\n",
    "print(type(x))"
   ]
  },
  {
   "cell_type": "code",
   "execution_count": 7,
   "metadata": {},
   "outputs": [
    {
     "name": "stdout",
     "output_type": "stream",
     "text": [
      "32\n",
      "<class 'int'>\n"
     ]
    }
   ],
   "source": [
    "expression=eval(evaluate)\n",
    "print(expression)\n",
    "print(type(expression))"
   ]
  }
 ],
 "metadata": {
  "kernelspec": {
   "display_name": "Python 3",
   "language": "python",
   "name": "python3"
  },
  "language_info": {
   "codemirror_mode": {
    "name": "ipython",
    "version": 3
   },
   "file_extension": ".py",
   "mimetype": "text/x-python",
   "name": "python",
   "nbconvert_exporter": "python",
   "pygments_lexer": "ipython3",
   "version": "3.7.6"
  }
 },
 "nbformat": 4,
 "nbformat_minor": 4
}
